{
 "cells": [
  {
   "cell_type": "code",
   "execution_count": null,
   "id": "8484d688-bb3e-45e4-a767-5b9489506ec9",
   "metadata": {},
   "outputs": [],
   "source": [
    "import torch\n",
    "import pandas as pd\n",
    "import numpy as np\n",
    "\n",
    "from collections import Counter"
   ]
  },
  {
   "cell_type": "code",
   "execution_count": null,
   "id": "ffa6a6ae-48be-4954-948c-3b3ca2ef9ccd",
   "metadata": {},
   "outputs": [],
   "source": [
    "#file_path = \"/scratch/c.scmag3/conceptEmbeddingModel/data/data-concept-instance-relations.txt\" \n",
    "file_path = \"./../../data/ms_concept_graph/data-concept-instance-relations.txt\"\n",
    "data_df = pd.read_csv(file_path, header=None, names=[\"property\", \"concept\", \"num_relation\"], sep=\"\\t\")"
   ]
  },
  {
   "cell_type": "code",
   "execution_count": null,
   "id": "09c2471e-fd15-4911-8f06-f9e2a22bfc2f",
   "metadata": {},
   "outputs": [],
   "source": [
    "print ('Data After Loading MS Concept Graph')\n",
    "data_df"
   ]
  },
  {
   "cell_type": "code",
   "execution_count": null,
   "id": "d69ccde0-9e3e-45e3-b342-a1d4a7bccb0e",
   "metadata": {
    "tags": []
   },
   "outputs": [],
   "source": [
    "data_df.sort_values('num_relation', ascending=False, inplace=True)"
   ]
  },
  {
   "cell_type": "code",
   "execution_count": null,
   "id": "dc30baa2-e19a-47ee-9216-8f03f85b7f17",
   "metadata": {},
   "outputs": [],
   "source": [
    "print ('Data After Sorting on Num Relation')\n",
    "data_df"
   ]
  },
  {
   "cell_type": "code",
   "execution_count": null,
   "id": "49d896f2-39b0-48e5-90c0-fdd644df021f",
   "metadata": {},
   "outputs": [],
   "source": [
    "data_df = data_df[['concept', 'property', 'num_relation']]\n",
    "data_df"
   ]
  },
  {
   "cell_type": "code",
   "execution_count": null,
   "id": "8d6fb58c-c29a-4993-a7dd-977f946e6ab8",
   "metadata": {},
   "outputs": [],
   "source": [
    "data_df = "
   ]
  },
  {
   "cell_type": "code",
   "execution_count": null,
   "id": "076a327b-04ad-4444-ac3c-f04f616d4280",
   "metadata": {},
   "outputs": [],
   "source": [
    "top_k = 15000"
   ]
  },
  {
   "cell_type": "code",
   "execution_count": null,
   "id": "693f86e9-02fb-44c8-ab4d-210f4a232b74",
   "metadata": {},
   "outputs": [],
   "source": [
    "data_df = data_df[0:top_k]\n",
    "print (f'Data Df after taking top {top_k} records \\n:')\n",
    "data_df"
   ]
  },
  {
   "cell_type": "code",
   "execution_count": null,
   "id": "c6f63b3e-762c-45be-bf24-0a65ab229c5d",
   "metadata": {},
   "outputs": [],
   "source": [
    "unique_concept_list = data_df[\"concept\"].unique()\n",
    "np.random.shuffle(unique_concept_list)\n",
    "print (unique_concept_list.shape[0])\n",
    "print (type(unique_concept_list))"
   ]
  },
  {
   "cell_type": "code",
   "execution_count": null,
   "id": "03ca9719-b1de-4890-8671-07fa6e7318da",
   "metadata": {},
   "outputs": [],
   "source": [
    "num_unique_concepts = len(unique_concept_list)\n",
    "print ('Num Unique Positive Concepts:', num_unique_concepts)"
   ]
  },
  {
   "cell_type": "code",
   "execution_count": null,
   "id": "96ece65e-64a2-49d1-b3a4-96f4c3aded17",
   "metadata": {},
   "outputs": [],
   "source": [
    "print (data_df[\"concept\"].value_counts())"
   ]
  },
  {
   "cell_type": "code",
   "execution_count": null,
   "id": "5ac076d7-dcbc-4681-9177-624fc238f63c",
   "metadata": {},
   "outputs": [],
   "source": [
    "train_ratio, val_ratio, test_ratio = 0.85, 0.10, 0.05"
   ]
  },
  {
   "cell_type": "code",
   "execution_count": null,
   "id": "81b7bc9e-6aba-4f6c-8d09-a9739041a819",
   "metadata": {},
   "outputs": [],
   "source": [
    "num_train_concepts = int(num_unique_concepts * train_ratio)\n",
    "num_val_concepts = int(num_unique_concepts * val_ratio)\n",
    "num_test_concepts = int(num_unique_concepts * test_ratio)\n",
    "\n",
    "print (num_train_concepts)\n",
    "print (num_val_concepts)\n",
    "print (num_test_concepts)\n"
   ]
  },
  {
   "cell_type": "code",
   "execution_count": null,
   "id": "18dc4ba2-6b17-4b2c-9b71-a78cef9c585c",
   "metadata": {
    "tags": []
   },
   "outputs": [],
   "source": [
    "train_concept = unique_concept_list[0:num_train_concepts]\n",
    "valid_concept = unique_concept_list[num_train_concepts:num_train_concepts + num_val_concepts]\n",
    "test_concept = unique_concept_list[num_train_concepts + num_val_concepts:]\n",
    "\n",
    "print ('Number of Positive Train Concept :', len(train_concept))\n",
    "print ('Number of Positive Valid Concept :', len(valid_concept))\n",
    "print ('Number of Positive Test Concept :', len(test_concept))\n"
   ]
  },
  {
   "cell_type": "markdown",
   "id": "93535914-bd09-4934-b582-479342c206bb",
   "metadata": {
    "tags": []
   },
   "source": [
    "print ('\\nTrain Concept :', *train_concept, sep=\", \")\n",
    "print ('\\nValid Concept :', *valid_concept, sep=\", \")\n",
    "print ('\\nTest Concept :', *test_concept, sep=\", \")\n"
   ]
  },
  {
   "cell_type": "code",
   "execution_count": null,
   "id": "f9df0225-fa82-4594-86ca-643239b375aa",
   "metadata": {},
   "outputs": [],
   "source": [
    "print ('Total Number of Positive Concepts :', num_train_concepts + num_val_concepts + num_test_concepts)"
   ]
  },
  {
   "cell_type": "code",
   "execution_count": null,
   "id": "78d65d25-bb4b-4d90-ba7f-ec218a3e5b1c",
   "metadata": {},
   "outputs": [],
   "source": [
    "print ('+' * 50)\n",
    "\n",
    "print ('Asserting Train Concept, Valid Concepts and Test Concpets Do Not Overlap')\n",
    "assert set (train_concept) != set (valid_concept)\n",
    "assert set (train_concept) != set (test_concept)\n",
    "assert set (valid_concept) != set (test_concept)\n",
    "\n",
    "print ('Assertions Passed')"
   ]
  },
  {
   "cell_type": "code",
   "execution_count": null,
   "id": "0447e2ad-6e06-4d84-ac14-82b75426bf76",
   "metadata": {},
   "outputs": [],
   "source": [
    "train_df = data_df[data_df['concept'].isin(train_concept)]\n",
    "valid_df = data_df[data_df['concept'].isin(valid_concept)]\n",
    "test_df = data_df[data_df['concept'].isin(test_concept)]\n",
    "\n",
    "print ('Number of Train Records :', len(train_df))\n",
    "print ('Number of Valid Records :', len(valid_df))\n",
    "print ('NUmber of Test Records :', len(test_df))\n",
    "\n",
    "print ('+' * 50)"
   ]
  },
  {
   "cell_type": "code",
   "execution_count": null,
   "id": "d4acbdc8-230c-4967-ac3c-a7de7ab58b72",
   "metadata": {
    "tags": []
   },
   "outputs": [],
   "source": [
    "print ('\\ncheck if train, val and test dataframes have any overlap')\n",
    "df = train_df.merge(test_df, how = 'inner' ,indicator=False)\n",
    "print('\\n', df)\n",
    "\n",
    "df = train_df.merge(valid_df, how = 'inner' ,indicator=False)\n",
    "print('\\n', df)\n",
    "\n",
    "df = test_df.merge(valid_df, how = 'inner', indicator=False)\n",
    "print('\\n', df)"
   ]
  },
  {
   "cell_type": "code",
   "execution_count": null,
   "id": "e5cb29dd-f9f1-4d81-ab10-183e8c73e5d8",
   "metadata": {},
   "outputs": [],
   "source": [
    "train_df = train_df.drop(\"num_relation\", axis=1)"
   ]
  },
  {
   "cell_type": "code",
   "execution_count": null,
   "id": "af8e8252-5f0a-4900-98d9-6594e8fce220",
   "metadata": {},
   "outputs": [],
   "source": [
    "train_df.to_csv(\"mscg_new_pos_train.tsv\", sep=\"\\t\", index=None, header=None)"
   ]
  },
  {
   "cell_type": "code",
   "execution_count": null,
   "id": "30003c51-368c-4fd2-b8b0-b8eb597be0c5",
   "metadata": {},
   "outputs": [],
   "source": [
    "valid_df = valid_df.drop(\"num_relation\", axis=1)"
   ]
  },
  {
   "cell_type": "code",
   "execution_count": null,
   "id": "ad288c4b-963e-4ab0-9339-6a1510f7384a",
   "metadata": {},
   "outputs": [],
   "source": [
    "valid_df.to_csv(\"mscg_new_pos_valid.tsv\", sep=\"\\t\", index=None, header=None)"
   ]
  },
  {
   "cell_type": "code",
   "execution_count": null,
   "id": "9390abb3-da5b-44e2-9f01-9abd2091b7cc",
   "metadata": {},
   "outputs": [],
   "source": [
    "test_df = test_df.drop(\"num_relation\", axis=1)"
   ]
  },
  {
   "cell_type": "code",
   "execution_count": null,
   "id": "4dbdfee6-5f95-400e-a7b5-3038d5978ea7",
   "metadata": {
    "tags": []
   },
   "outputs": [],
   "source": [
    "def generate_pos_neg_test_data(test_df):\n",
    "    \n",
    "    # print (test_df.head())\n",
    "    \n",
    "    test_df.reset_index(drop=True, inplace=True)\n",
    "    test_df = test_df.drop(\"num_relation\", axis=1)\n",
    "    test_df[\"label\"] = 1\n",
    "    \n",
    "    test_df.set_index(\"concept\", drop=False)\n",
    "    \n",
    "    print (test_df.head())\n",
    "    print (test_df.shape)\n",
    "    \n",
    "    unique_test_concept = test_df[\"concept\"].unique()\n",
    "    \n",
    "    print (len(unique_test_concept))\n",
    "    \n",
    "    negative_data = []\n",
    "    for concept in unique_test_concept:\n",
    "        \n",
    "        temp_df = test_df[test_df[\"concept\"] != concept]\n",
    "        \n",
    "        # print (\"temp_df\")\n",
    "        # print (temp_df)\n",
    "        \n",
    "        sampled_property = np.random.choice(temp_df[\"property\"].unique(), size=5, replace=False)\n",
    "        \n",
    "        # print (\"sampled_property\")\n",
    "        # print (sampled_property)\n",
    "        \n",
    "        negative_data.append([(concept, prop, 0) for prop in sampled_property])\n",
    "    \n",
    "    # print (\"negative_data\")\n",
    "    # print (len(negative_data))\n",
    "    # print (negative_data)\n",
    "    \n",
    "    negative_data_df = pd.concat([pd.DataFrame(data, columns=['concept', 'property', 'label']) \\\n",
    "                                  for data in negative_data], ignore_index=True)\n",
    "\n",
    "    print(\"negative_data_df\")\n",
    "    print (negative_data_df.shape)\n",
    "    \n",
    "    all_data = pd.concat([test_df, negative_data_df], ignore_index=True)\n",
    "    \n",
    "    print(\"All Data\")\n",
    "    print (all_data.shape)\n",
    "    \n",
    "    all_data= all_data.sample(frac=1)\n",
    "    \n",
    "    all_data.to_csv(\"mscg_new_pos_neg_test.tsv\", sep=\"\\t\", header=None, index=None)\n",
    "    \n",
    "    all_data.set_index(\"concept\", drop=False)\n",
    "    \n",
    "    for concept in all_data[\"concept\"].unique():\n",
    "        \n",
    "        print (\"Train Data -------------\")\n",
    "        print (train_df[train_df[\"concept\"] == concept])\n",
    "        print (\"Test Data-----------\")\n",
    "        print (all_data[all_data[\"concept\"] == concept])\n",
    "        print (\"++++++++++++++\")\n",
    "        print ()\n",
    "    \n",
    "    return all_data\n",
    "    \n",
    "test_pos_neg_data = generate_pos_neg_test_data(test_df)"
   ]
  },
  {
   "cell_type": "code",
   "execution_count": null,
   "id": "72ec0e67-0cc8-46a6-8cc8-a5713a7f3873",
   "metadata": {},
   "outputs": [],
   "source": [
    "train_test_overlap_df = pd.merge(train_df, test_pos_neg_data, how=\"inner\", on = [\"concept\", \"property\"])"
   ]
  },
  {
   "cell_type": "code",
   "execution_count": null,
   "id": "f9429854-82b5-4f81-b87c-20cf33f5340f",
   "metadata": {},
   "outputs": [],
   "source": [
    "train_test_overlap_df"
   ]
  },
  {
   "cell_type": "code",
   "execution_count": null,
   "id": "dfb2939c-08de-410b-8c69-9a8de8819180",
   "metadata": {},
   "outputs": [],
   "source": [
    "test_train_overlap_df = pd.merge(test_pos_neg_data, train_df, how=\"inner\", on = [\"concept\", \"property\"])"
   ]
  },
  {
   "cell_type": "code",
   "execution_count": null,
   "id": "068c2aad-4817-46c9-93aa-d8d07306c124",
   "metadata": {},
   "outputs": [],
   "source": [
    "test_train_overlap_df"
   ]
  },
  {
   "cell_type": "code",
   "execution_count": null,
   "id": "5a04f52d-aa38-44b3-a856-141d3771a4e7",
   "metadata": {},
   "outputs": [],
   "source": [
    "train_valid_overlap_df = pd.merge(train_df, valid_df, how=\"inner\", on = [\"concept\", \"property\"])"
   ]
  },
  {
   "cell_type": "code",
   "execution_count": null,
   "id": "45ff7b76-e130-4aaf-8e4a-132bf7aabb1b",
   "metadata": {},
   "outputs": [],
   "source": [
    "train_valid_overlap_df"
   ]
  },
  {
   "cell_type": "code",
   "execution_count": null,
   "id": "69460445-93dc-4a15-89c0-aed0468c2c28",
   "metadata": {},
   "outputs": [],
   "source": [
    "test_valid_overlap_df = pd.merge(test_df, valid_df, how=\"inner\", on = [\"concept\", \"property\"])"
   ]
  },
  {
   "cell_type": "code",
   "execution_count": null,
   "id": "f6160dc4-a76b-4090-93e3-21fd4f49d13e",
   "metadata": {},
   "outputs": [],
   "source": [
    "test_valid_overlap_df"
   ]
  },
  {
   "cell_type": "code",
   "execution_count": null,
   "id": "5ba0b8ea-9f2c-46ac-bf3e-565a2c28f47c",
   "metadata": {},
   "outputs": [],
   "source": [
    "valid_df"
   ]
  },
  {
   "cell_type": "code",
   "execution_count": null,
   "id": "b9fd7c17-648a-4b29-a8b0-0ed4194a8282",
   "metadata": {},
   "outputs": [],
   "source": [
    "test_df"
   ]
  },
  {
   "cell_type": "code",
   "execution_count": null,
   "id": "0dee7343-eba1-42f2-b1da-fe88332c8cab",
   "metadata": {},
   "outputs": [],
   "source": [
    "!pwd"
   ]
  },
  {
   "cell_type": "code",
   "execution_count": null,
   "id": "51c65932-00ea-47c4-85c1-606e7dd11cba",
   "metadata": {},
   "outputs": [],
   "source": [
    "train_df[\"concept\"].unique()"
   ]
  },
  {
   "cell_type": "code",
   "execution_count": null,
   "id": "d52365f6-4626-4663-a6a7-89c6f9926a49",
   "metadata": {},
   "outputs": [],
   "source": [
    "np.sort(train_df[\"concept\"].unique())"
   ]
  },
  {
   "cell_type": "code",
   "execution_count": null,
   "id": "6c2a4211-734f-476f-a9c8-37c4c30f449f",
   "metadata": {
    "tags": []
   },
   "outputs": [],
   "source": [
    "np.sort(test_df[\"concept\"].unique())"
   ]
  },
  {
   "cell_type": "code",
   "execution_count": null,
   "id": "742911b1-258e-494b-b32e-9756c036c3c0",
   "metadata": {},
   "outputs": [],
   "source": []
  },
  {
   "cell_type": "code",
   "execution_count": null,
   "id": "bab0b085-e43f-43b2-976e-163fa04ddd99",
   "metadata": {},
   "outputs": [],
   "source": []
  },
  {
   "cell_type": "code",
   "execution_count": null,
   "id": "267df0f9-16ea-4292-ab21-351b67247f01",
   "metadata": {},
   "outputs": [],
   "source": []
  },
  {
   "cell_type": "code",
   "execution_count": null,
   "id": "a645ace5-8ef7-41db-bdcf-72eb4010ddaf",
   "metadata": {},
   "outputs": [],
   "source": []
  },
  {
   "cell_type": "code",
   "execution_count": null,
   "id": "0c9c64c3-9334-4254-a326-f9c79cdd1c1f",
   "metadata": {},
   "outputs": [],
   "source": []
  },
  {
   "cell_type": "code",
   "execution_count": null,
   "id": "32c65ce9-52dd-46dd-8484-5cfa1ee6a807",
   "metadata": {},
   "outputs": [],
   "source": []
  },
  {
   "cell_type": "code",
   "execution_count": null,
   "id": "fdbcf8da-1676-419b-bdb0-49dc8c6d5715",
   "metadata": {},
   "outputs": [],
   "source": []
  },
  {
   "cell_type": "code",
   "execution_count": null,
   "id": "9a58100c-18a5-4246-86f1-470a299e886a",
   "metadata": {},
   "outputs": [],
   "source": []
  },
  {
   "cell_type": "code",
   "execution_count": null,
   "id": "a69bc3af-abe8-41e6-8ba1-1863feafeb2f",
   "metadata": {},
   "outputs": [],
   "source": [
    "train_df.dtypes"
   ]
  },
  {
   "cell_type": "code",
   "execution_count": null,
   "id": "f86514c5-f8ae-46fe-84e1-82e1ddffc1d8",
   "metadata": {},
   "outputs": [],
   "source": [
    "def generate_negative_data(data_df, num_neg_pair=1):\n",
    "    \n",
    "    data_df.reset_index(drop=True, inplace=True)\n",
    "    \n",
    "    #print ('data_df.index :',data_df.index)\n",
    "        \n",
    "    negative_data = []\n",
    "    \n",
    "    concept_list = data_df['concept'].unique()\n",
    "\n",
    "    for concept in concept_list:\n",
    "        \n",
    "        negative_data_for_concept = []\n",
    "\n",
    "        positive_data = data_df[data_df[\"concept\"] == concept]\n",
    "        #positive_data_index = data_df[data_df[\"concept\"] == concept].index\n",
    "        positive_data_index = np.array(positive_data.index)\n",
    "        num_positive_data = len(positive_data_index)\n",
    "\n",
    "        rest_df = data_df.drop(positive_data_index)\n",
    "        rest_df.reset_index(drop=True, inplace=True)\n",
    "        rest_df_idx = rest_df.index\n",
    "        \n",
    "        pos_or_negative = np.random.choice(['neg_concept', 'neg_property'], size=len(positive_data_index))\n",
    "        \n",
    "        num_neg_concept = Counter(pos_or_negative).get('neg_concept')\n",
    "        num_neg_property = Counter(pos_or_negative).get('neg_property')\n",
    "                \n",
    "        print ('\\n')\n",
    "        print ('--' * 50 )\n",
    "        print ('Concept :', concept)\n",
    "        print ('len(positive_data):', len(positive_data))\n",
    "        print ('num_neg_concept :',  num_neg_concept)\n",
    "        print ('num_neg_property :', num_neg_property)\n",
    "        print ('postitive_data_index :', positive_data_index)\n",
    "        print ('\\npositive_data:')\n",
    "        print (positive_data)\n",
    "        \n",
    "        neg_concept_data = []\n",
    "        neg_property_data = []\n",
    "        \n",
    "        \n",
    "        # indexes of the records for which concept will be corrupted.\n",
    "        if num_neg_concept is not None:\n",
    "            \n",
    "            neg_concept_record_idx = np.random.choice(positive_data_index, size=num_neg_concept)\n",
    "            neg_concept = rest_df.sample(n = num_neg_pair * num_neg_concept)['concept'].to_numpy()\n",
    "            neg_concept_split = np.split(neg_concept, len(neg_concept_record_idx))\n",
    "            \n",
    "            print ('\\nneg_concepts')\n",
    "            print (neg_concept)\n",
    "            \n",
    "            for array, idx in zip(neg_concept_split, neg_concept_record_idx):\n",
    "                neg_concept_data.extend([(con, positive_data.loc[idx]['property'], 0) for con in array])                \n",
    "        else:\n",
    "            print ('num_neg_concept in None')\n",
    "            neg_concept_record_idx = []\n",
    "        \n",
    "        print ('Negative concept for true property')\n",
    "        print (neg_concept_data)\n",
    "\n",
    "                \n",
    "        if num_neg_property is not None:\n",
    "            \n",
    "            # indexes of the records for which property will be corrupted.\n",
    "            #neg_property_record_idx = np.array([idx for idx in positive_data_index if idx not in neg_concept_record_idx])\n",
    "            \n",
    "            neg_property = rest_df.sample(n=num_neg_pair * num_neg_property)['property'].to_list()\n",
    "            print ('\\nneg_property :', neg_property)\n",
    "            \n",
    "            neg_property_data.extend([(concept, neg_prop, 0) for neg_prop in neg_property])\n",
    "            \n",
    "        print ('Negative Property data for true Concept :')\n",
    "        print (neg_property_data)\n",
    "            \n",
    "        negative_data_for_concept.extend(neg_concept_data)\n",
    "        negative_data_for_concept.extend(neg_property_data)\n",
    "        \n",
    "        print ('\\nNumber of Negative Data For Concept :', len(negative_data_for_concept))\n",
    "        print ('negative_data_for_concept:')\n",
    "        print (negative_data_for_concept)\n",
    "        \n",
    "        negative_data.append(negative_data_for_concept)\n",
    "        \n",
    "\n",
    "    negative_data_df = pd.concat([pd.DataFrame(data, columns=['concept', 'property', 'label']) \\\n",
    "                                  for data in negative_data], ignore_index=True)\n",
    "    \n",
    "    \n",
    "    all_data = pd.concat([data_df, negative_data_df], ignore_index=True)\n",
    "    \n",
    "    all_data = all_data.sample(frac=1)\n",
    "    all_data.drop_duplicates(inplace=True)\n",
    "    \n",
    "    print ('\\nFinished Generating Data For One Set')\n",
    "    print ('len(all_data) :', len(all_data))\n",
    "    \n",
    "    return all_data\n"
   ]
  },
  {
   "cell_type": "code",
   "execution_count": null,
   "id": "07996acb-bde3-4690-b725-7a234478b620",
   "metadata": {},
   "outputs": [],
   "source": [
    "print ('#' * 50)\n",
    "print ('Generating Negative Train Data')"
   ]
  },
  {
   "cell_type": "code",
   "execution_count": null,
   "id": "2b318c3d-7dd3-4c67-a2d5-eab92e488b1a",
   "metadata": {},
   "outputs": [],
   "source": [
    "print ('\\n Training Data')"
   ]
  },
  {
   "cell_type": "code",
   "execution_count": null,
   "id": "696972d5-7a80-4beb-87f0-3b5eea10976e",
   "metadata": {
    "tags": []
   },
   "outputs": [],
   "source": [
    "pos_neg_train_df = generate_negative_data(train_df, num_neg_pair=num_neg_pair)\n",
    "pos_neg_train_df.to_csv('data/65k_train_ms_concept_graph.tsv', sep='\\t', index=None, header=None)"
   ]
  },
  {
   "cell_type": "code",
   "execution_count": null,
   "id": "0b24f30d-1017-4082-9a34-8cd91b233753",
   "metadata": {},
   "outputs": [],
   "source": [
    "print ()\n",
    "print ('#' * 5)\n",
    "print ('Train Record Before Negative Data:', len(train_df))\n",
    "print ('Train Record After Negative Data:', len(pos_neg_train_df))"
   ]
  },
  {
   "cell_type": "code",
   "execution_count": null,
   "id": "06b42a89-2002-4671-b742-6f2ed3b9f30d",
   "metadata": {
    "tags": []
   },
   "outputs": [],
   "source": [
    "print ('#' * 50)\n",
    "print ('Generating Negative Valid Data')\n",
    "print ('\\n Validation Data')\n",
    "pos_neg_val_df = generate_negative_data(valid_df, num_neg_pair=num_neg_pair)\n",
    "pos_neg_val_df.to_csv('data/65k_valid_ms_concept_graph.tsv', sep='\\t', index=None, header=None)"
   ]
  },
  {
   "cell_type": "code",
   "execution_count": null,
   "id": "6d5096cb-433b-4194-ba4e-4201a55df968",
   "metadata": {},
   "outputs": [],
   "source": [
    "print ()\n",
    "print ('#' * 5)\n",
    "print ('Validation Record Before Negative Data:', len(valid_df))\n",
    "print ('Validation Record After Negative Data:', len(pos_neg_val_df))"
   ]
  },
  {
   "cell_type": "code",
   "execution_count": null,
   "id": "05115f0a-b245-4c85-b83f-b4cfb91d6f0e",
   "metadata": {
    "tags": []
   },
   "outputs": [],
   "source": [
    "print ('#' * 50)\n",
    "print ('Generating Negative Test Data')\n",
    "\n",
    "print ('\\n Test Data')\n",
    "pos_neg_test_df = generate_negative_data(test_df, num_neg_pair=num_neg_pair)\n",
    "pos_neg_test_df.to_csv('data/65k_test_ms_concept_graph.tsv', sep='\\t', index=None, header=None)"
   ]
  },
  {
   "cell_type": "code",
   "execution_count": null,
   "id": "354e5e38-e433-456a-acfd-b215de71ece3",
   "metadata": {},
   "outputs": [],
   "source": [
    "print ()\n",
    "print ('#' * 5)\n",
    "print ('Test Record Before Negative Data:', len(test_df))\n",
    "print ('Test Record After Negative Data:', len(pos_neg_test_df))"
   ]
  }
 ],
 "metadata": {
  "kernelspec": {
   "display_name": "Python 3 (ipykernel)",
   "language": "python",
   "name": "python3"
  },
  "language_info": {
   "codemirror_mode": {
    "name": "ipython",
    "version": 3
   },
   "file_extension": ".py",
   "mimetype": "text/x-python",
   "name": "python",
   "nbconvert_exporter": "python",
   "pygments_lexer": "ipython3",
   "version": "3.9.7"
  }
 },
 "nbformat": 4,
 "nbformat_minor": 5
}
