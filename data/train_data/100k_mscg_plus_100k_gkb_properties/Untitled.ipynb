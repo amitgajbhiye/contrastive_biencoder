{
 "cells": [
  {
   "cell_type": "code",
   "execution_count": 19,
   "id": "d3f7b359-28b3-4ea0-8521-730c7022ce41",
   "metadata": {},
   "outputs": [],
   "source": [
    "import pandas as pd\n",
    "import torch"
   ]
  },
  {
   "cell_type": "code",
   "execution_count": 2,
   "id": "a8260106-0e43-4d1f-b0da-519730ab0200",
   "metadata": {},
   "outputs": [],
   "source": [
    "train_df = pd.read_csv(\"old_train_top_100k_gkb_mscg.tsv\", sep=\"\\t\", header=None, names=[\"concept\", \"property\"])"
   ]
  },
  {
   "cell_type": "code",
   "execution_count": 3,
   "id": "2117d412-c286-4547-a6b1-e8ba88d5cd85",
   "metadata": {},
   "outputs": [
    {
     "data": {
      "text/html": [
       "<div>\n",
       "<style scoped>\n",
       "    .dataframe tbody tr th:only-of-type {\n",
       "        vertical-align: middle;\n",
       "    }\n",
       "\n",
       "    .dataframe tbody tr th {\n",
       "        vertical-align: top;\n",
       "    }\n",
       "\n",
       "    .dataframe thead th {\n",
       "        text-align: right;\n",
       "    }\n",
       "</style>\n",
       "<table border=\"1\" class=\"dataframe\">\n",
       "  <thead>\n",
       "    <tr style=\"text-align: right;\">\n",
       "      <th></th>\n",
       "      <th>concept</th>\n",
       "      <th>property</th>\n",
       "    </tr>\n",
       "  </thead>\n",
       "  <tbody>\n",
       "    <tr>\n",
       "      <th>0</th>\n",
       "      <td>age</td>\n",
       "      <td>factor</td>\n",
       "    </tr>\n",
       "    <tr>\n",
       "      <th>1</th>\n",
       "      <td>size</td>\n",
       "      <td>free rich company datum</td>\n",
       "    </tr>\n",
       "    <tr>\n",
       "      <th>2</th>\n",
       "      <td>revenue</td>\n",
       "      <td>free rich company datum</td>\n",
       "    </tr>\n",
       "    <tr>\n",
       "      <th>3</th>\n",
       "      <td>california</td>\n",
       "      <td>state</td>\n",
       "    </tr>\n",
       "    <tr>\n",
       "      <th>4</th>\n",
       "      <td>msm glucosamine sulfate</td>\n",
       "      <td>supplement</td>\n",
       "    </tr>\n",
       "    <tr>\n",
       "      <th>...</th>\n",
       "      <td>...</td>\n",
       "      <td>...</td>\n",
       "    </tr>\n",
       "    <tr>\n",
       "      <th>196896</th>\n",
       "      <td>glycogen storage diseases</td>\n",
       "      <td>caused by mutation</td>\n",
       "    </tr>\n",
       "    <tr>\n",
       "      <th>196897</th>\n",
       "      <td>glycerite</td>\n",
       "      <td>ester</td>\n",
       "    </tr>\n",
       "    <tr>\n",
       "      <th>196898</th>\n",
       "      <td>glycine</td>\n",
       "      <td>has calm effects</td>\n",
       "    </tr>\n",
       "    <tr>\n",
       "      <th>196899</th>\n",
       "      <td>glycine</td>\n",
       "      <td>has effects</td>\n",
       "    </tr>\n",
       "    <tr>\n",
       "      <th>196900</th>\n",
       "      <td>glycine</td>\n",
       "      <td>mino acid</td>\n",
       "    </tr>\n",
       "  </tbody>\n",
       "</table>\n",
       "<p>196901 rows × 2 columns</p>\n",
       "</div>"
      ],
      "text/plain": [
       "                          concept                 property\n",
       "0                             age                   factor\n",
       "1                            size  free rich company datum\n",
       "2                         revenue  free rich company datum\n",
       "3                      california                    state\n",
       "4         msm glucosamine sulfate               supplement\n",
       "...                           ...                      ...\n",
       "196896  glycogen storage diseases       caused by mutation\n",
       "196897                  glycerite                    ester\n",
       "196898                    glycine         has calm effects\n",
       "196899                    glycine              has effects\n",
       "196900                    glycine                mino acid\n",
       "\n",
       "[196901 rows x 2 columns]"
      ]
     },
     "execution_count": 3,
     "metadata": {},
     "output_type": "execute_result"
    }
   ],
   "source": [
    "train_df"
   ]
  },
  {
   "cell_type": "code",
   "execution_count": 4,
   "id": "fa83e587-c26b-4e5a-854d-1f48ae0f5303",
   "metadata": {},
   "outputs": [],
   "source": [
    "train_df.drop_duplicates(inplace=True)\n",
    "train_df.dropna(inplace=True)"
   ]
  },
  {
   "cell_type": "code",
   "execution_count": 5,
   "id": "1360a269-8cd0-4f75-873c-58869007a6f8",
   "metadata": {},
   "outputs": [
    {
     "data": {
      "text/html": [
       "<div>\n",
       "<style scoped>\n",
       "    .dataframe tbody tr th:only-of-type {\n",
       "        vertical-align: middle;\n",
       "    }\n",
       "\n",
       "    .dataframe tbody tr th {\n",
       "        vertical-align: top;\n",
       "    }\n",
       "\n",
       "    .dataframe thead th {\n",
       "        text-align: right;\n",
       "    }\n",
       "</style>\n",
       "<table border=\"1\" class=\"dataframe\">\n",
       "  <thead>\n",
       "    <tr style=\"text-align: right;\">\n",
       "      <th></th>\n",
       "      <th>concept</th>\n",
       "      <th>property</th>\n",
       "    </tr>\n",
       "  </thead>\n",
       "  <tbody>\n",
       "    <tr>\n",
       "      <th>0</th>\n",
       "      <td>age</td>\n",
       "      <td>factor</td>\n",
       "    </tr>\n",
       "    <tr>\n",
       "      <th>1</th>\n",
       "      <td>size</td>\n",
       "      <td>free rich company datum</td>\n",
       "    </tr>\n",
       "    <tr>\n",
       "      <th>2</th>\n",
       "      <td>revenue</td>\n",
       "      <td>free rich company datum</td>\n",
       "    </tr>\n",
       "    <tr>\n",
       "      <th>3</th>\n",
       "      <td>california</td>\n",
       "      <td>state</td>\n",
       "    </tr>\n",
       "    <tr>\n",
       "      <th>4</th>\n",
       "      <td>msm glucosamine sulfate</td>\n",
       "      <td>supplement</td>\n",
       "    </tr>\n",
       "    <tr>\n",
       "      <th>...</th>\n",
       "      <td>...</td>\n",
       "      <td>...</td>\n",
       "    </tr>\n",
       "    <tr>\n",
       "      <th>196896</th>\n",
       "      <td>glycogen storage diseases</td>\n",
       "      <td>caused by mutation</td>\n",
       "    </tr>\n",
       "    <tr>\n",
       "      <th>196897</th>\n",
       "      <td>glycerite</td>\n",
       "      <td>ester</td>\n",
       "    </tr>\n",
       "    <tr>\n",
       "      <th>196898</th>\n",
       "      <td>glycine</td>\n",
       "      <td>has calm effects</td>\n",
       "    </tr>\n",
       "    <tr>\n",
       "      <th>196899</th>\n",
       "      <td>glycine</td>\n",
       "      <td>has effects</td>\n",
       "    </tr>\n",
       "    <tr>\n",
       "      <th>196900</th>\n",
       "      <td>glycine</td>\n",
       "      <td>mino acid</td>\n",
       "    </tr>\n",
       "  </tbody>\n",
       "</table>\n",
       "<p>194937 rows × 2 columns</p>\n",
       "</div>"
      ],
      "text/plain": [
       "                          concept                 property\n",
       "0                             age                   factor\n",
       "1                            size  free rich company datum\n",
       "2                         revenue  free rich company datum\n",
       "3                      california                    state\n",
       "4         msm glucosamine sulfate               supplement\n",
       "...                           ...                      ...\n",
       "196896  glycogen storage diseases       caused by mutation\n",
       "196897                  glycerite                    ester\n",
       "196898                    glycine         has calm effects\n",
       "196899                    glycine              has effects\n",
       "196900                    glycine                mino acid\n",
       "\n",
       "[194937 rows x 2 columns]"
      ]
     },
     "execution_count": 5,
     "metadata": {},
     "output_type": "execute_result"
    }
   ],
   "source": [
    "train_df"
   ]
  },
  {
   "cell_type": "code",
   "execution_count": 6,
   "id": "7322a579-16e7-47c6-8692-59177a1d2548",
   "metadata": {},
   "outputs": [
    {
     "data": {
      "text/plain": [
       "False"
      ]
     },
     "execution_count": 6,
     "metadata": {},
     "output_type": "execute_result"
    }
   ],
   "source": [
    "train_df[\"property\"].isnull().values.any()"
   ]
  },
  {
   "cell_type": "code",
   "execution_count": 7,
   "id": "204b42b1-332c-4fb8-9bfa-f0a39330dcb3",
   "metadata": {},
   "outputs": [
    {
     "data": {
      "text/plain": [
       "False"
      ]
     },
     "execution_count": 7,
     "metadata": {},
     "output_type": "execute_result"
    }
   ],
   "source": [
    "train_df[\"concept\"].isnull().values.any()"
   ]
  },
  {
   "cell_type": "code",
   "execution_count": 8,
   "id": "f5249d31-6086-4b21-895c-37f5b215ef49",
   "metadata": {},
   "outputs": [],
   "source": [
    "train_df.reset_index(inplace=True, drop=True)"
   ]
  },
  {
   "cell_type": "code",
   "execution_count": 9,
   "id": "260b4852-dd7a-4ed3-9590-9f1ecaff4254",
   "metadata": {},
   "outputs": [
    {
     "data": {
      "text/html": [
       "<div>\n",
       "<style scoped>\n",
       "    .dataframe tbody tr th:only-of-type {\n",
       "        vertical-align: middle;\n",
       "    }\n",
       "\n",
       "    .dataframe tbody tr th {\n",
       "        vertical-align: top;\n",
       "    }\n",
       "\n",
       "    .dataframe thead th {\n",
       "        text-align: right;\n",
       "    }\n",
       "</style>\n",
       "<table border=\"1\" class=\"dataframe\">\n",
       "  <thead>\n",
       "    <tr style=\"text-align: right;\">\n",
       "      <th></th>\n",
       "      <th>concept</th>\n",
       "      <th>property</th>\n",
       "    </tr>\n",
       "  </thead>\n",
       "  <tbody>\n",
       "    <tr>\n",
       "      <th>0</th>\n",
       "      <td>age</td>\n",
       "      <td>factor</td>\n",
       "    </tr>\n",
       "    <tr>\n",
       "      <th>1</th>\n",
       "      <td>size</td>\n",
       "      <td>free rich company datum</td>\n",
       "    </tr>\n",
       "    <tr>\n",
       "      <th>2</th>\n",
       "      <td>revenue</td>\n",
       "      <td>free rich company datum</td>\n",
       "    </tr>\n",
       "    <tr>\n",
       "      <th>3</th>\n",
       "      <td>california</td>\n",
       "      <td>state</td>\n",
       "    </tr>\n",
       "    <tr>\n",
       "      <th>4</th>\n",
       "      <td>msm glucosamine sulfate</td>\n",
       "      <td>supplement</td>\n",
       "    </tr>\n",
       "    <tr>\n",
       "      <th>...</th>\n",
       "      <td>...</td>\n",
       "      <td>...</td>\n",
       "    </tr>\n",
       "    <tr>\n",
       "      <th>194932</th>\n",
       "      <td>glycogen storage diseases</td>\n",
       "      <td>caused by mutation</td>\n",
       "    </tr>\n",
       "    <tr>\n",
       "      <th>194933</th>\n",
       "      <td>glycerite</td>\n",
       "      <td>ester</td>\n",
       "    </tr>\n",
       "    <tr>\n",
       "      <th>194934</th>\n",
       "      <td>glycine</td>\n",
       "      <td>has calm effects</td>\n",
       "    </tr>\n",
       "    <tr>\n",
       "      <th>194935</th>\n",
       "      <td>glycine</td>\n",
       "      <td>has effects</td>\n",
       "    </tr>\n",
       "    <tr>\n",
       "      <th>194936</th>\n",
       "      <td>glycine</td>\n",
       "      <td>mino acid</td>\n",
       "    </tr>\n",
       "  </tbody>\n",
       "</table>\n",
       "<p>194937 rows × 2 columns</p>\n",
       "</div>"
      ],
      "text/plain": [
       "                          concept                 property\n",
       "0                             age                   factor\n",
       "1                            size  free rich company datum\n",
       "2                         revenue  free rich company datum\n",
       "3                      california                    state\n",
       "4         msm glucosamine sulfate               supplement\n",
       "...                           ...                      ...\n",
       "194932  glycogen storage diseases       caused by mutation\n",
       "194933                  glycerite                    ester\n",
       "194934                    glycine         has calm effects\n",
       "194935                    glycine              has effects\n",
       "194936                    glycine                mino acid\n",
       "\n",
       "[194937 rows x 2 columns]"
      ]
     },
     "execution_count": 9,
     "metadata": {},
     "output_type": "execute_result"
    }
   ],
   "source": [
    "train_df"
   ]
  },
  {
   "cell_type": "code",
   "execution_count": 10,
   "id": "47314f06-c3c0-45a4-b5b9-5a823c0d5f9c",
   "metadata": {},
   "outputs": [],
   "source": [
    "train_df.to_csv(\"train_top_100k_gkb_mscg.tsv\", sep=\"\\t\", header=False, index=False, index_label=None)"
   ]
  },
  {
   "cell_type": "code",
   "execution_count": 11,
   "id": "708347df-5a5f-4d1e-8711-3811341498a8",
   "metadata": {},
   "outputs": [],
   "source": [
    "valid_df = pd.read_csv(\"old_valid_sampled_10k_top_100k_gkb_mscg.tsv\", sep= \"\\t\", header=None, names=[\"concept\", \"property\"])"
   ]
  },
  {
   "cell_type": "code",
   "execution_count": 12,
   "id": "4be78e5a-eecf-427a-a8fe-12a066db1b38",
   "metadata": {},
   "outputs": [
    {
     "data": {
      "text/html": [
       "<div>\n",
       "<style scoped>\n",
       "    .dataframe tbody tr th:only-of-type {\n",
       "        vertical-align: middle;\n",
       "    }\n",
       "\n",
       "    .dataframe tbody tr th {\n",
       "        vertical-align: top;\n",
       "    }\n",
       "\n",
       "    .dataframe thead th {\n",
       "        text-align: right;\n",
       "    }\n",
       "</style>\n",
       "<table border=\"1\" class=\"dataframe\">\n",
       "  <thead>\n",
       "    <tr style=\"text-align: right;\">\n",
       "      <th></th>\n",
       "      <th>concept</th>\n",
       "      <th>property</th>\n",
       "    </tr>\n",
       "  </thead>\n",
       "  <tbody>\n",
       "    <tr>\n",
       "      <th>0</th>\n",
       "      <td>panel</td>\n",
       "      <td>part</td>\n",
       "    </tr>\n",
       "    <tr>\n",
       "      <th>1</th>\n",
       "      <td>gout</td>\n",
       "      <td>problem</td>\n",
       "    </tr>\n",
       "    <tr>\n",
       "      <th>2</th>\n",
       "      <td>golf shoes</td>\n",
       "      <td>have rubber soles</td>\n",
       "    </tr>\n",
       "    <tr>\n",
       "      <th>3</th>\n",
       "      <td>un</td>\n",
       "      <td>global organization</td>\n",
       "    </tr>\n",
       "    <tr>\n",
       "      <th>4</th>\n",
       "      <td>atlantic salmon</td>\n",
       "      <td>species</td>\n",
       "    </tr>\n",
       "    <tr>\n",
       "      <th>...</th>\n",
       "      <td>...</td>\n",
       "      <td>...</td>\n",
       "    </tr>\n",
       "    <tr>\n",
       "      <th>9995</th>\n",
       "      <td>hails</td>\n",
       "      <td>cause structural damage</td>\n",
       "    </tr>\n",
       "    <tr>\n",
       "      <th>9996</th>\n",
       "      <td>boundary element method</td>\n",
       "      <td>numerical technique</td>\n",
       "    </tr>\n",
       "    <tr>\n",
       "      <th>9997</th>\n",
       "      <td>miracle</td>\n",
       "      <td>topic</td>\n",
       "    </tr>\n",
       "    <tr>\n",
       "      <th>9998</th>\n",
       "      <td>medical</td>\n",
       "      <td>product</td>\n",
       "    </tr>\n",
       "    <tr>\n",
       "      <th>9999</th>\n",
       "      <td>forks</td>\n",
       "      <td>used for eats</td>\n",
       "    </tr>\n",
       "  </tbody>\n",
       "</table>\n",
       "<p>10000 rows × 2 columns</p>\n",
       "</div>"
      ],
      "text/plain": [
       "                      concept                 property\n",
       "0                       panel                     part\n",
       "1                        gout                  problem\n",
       "2                  golf shoes        have rubber soles\n",
       "3                          un      global organization\n",
       "4             atlantic salmon                  species\n",
       "...                       ...                      ...\n",
       "9995                    hails  cause structural damage\n",
       "9996  boundary element method      numerical technique\n",
       "9997                  miracle                    topic\n",
       "9998                  medical                  product\n",
       "9999                    forks            used for eats\n",
       "\n",
       "[10000 rows x 2 columns]"
      ]
     },
     "execution_count": 12,
     "metadata": {},
     "output_type": "execute_result"
    }
   ],
   "source": [
    "valid_df"
   ]
  },
  {
   "cell_type": "code",
   "execution_count": 13,
   "id": "93887465-6173-404f-bc24-24ddab7fa84e",
   "metadata": {},
   "outputs": [],
   "source": [
    "valid_df.drop_duplicates(inplace=True)"
   ]
  },
  {
   "cell_type": "code",
   "execution_count": 14,
   "id": "9f49d024-7e84-44a3-8b31-b39ee3a0d2b0",
   "metadata": {},
   "outputs": [
    {
     "data": {
      "text/html": [
       "<div>\n",
       "<style scoped>\n",
       "    .dataframe tbody tr th:only-of-type {\n",
       "        vertical-align: middle;\n",
       "    }\n",
       "\n",
       "    .dataframe tbody tr th {\n",
       "        vertical-align: top;\n",
       "    }\n",
       "\n",
       "    .dataframe thead th {\n",
       "        text-align: right;\n",
       "    }\n",
       "</style>\n",
       "<table border=\"1\" class=\"dataframe\">\n",
       "  <thead>\n",
       "    <tr style=\"text-align: right;\">\n",
       "      <th></th>\n",
       "      <th>concept</th>\n",
       "      <th>property</th>\n",
       "    </tr>\n",
       "  </thead>\n",
       "  <tbody>\n",
       "    <tr>\n",
       "      <th>0</th>\n",
       "      <td>panel</td>\n",
       "      <td>part</td>\n",
       "    </tr>\n",
       "    <tr>\n",
       "      <th>1</th>\n",
       "      <td>gout</td>\n",
       "      <td>problem</td>\n",
       "    </tr>\n",
       "    <tr>\n",
       "      <th>2</th>\n",
       "      <td>golf shoes</td>\n",
       "      <td>have rubber soles</td>\n",
       "    </tr>\n",
       "    <tr>\n",
       "      <th>3</th>\n",
       "      <td>un</td>\n",
       "      <td>global organization</td>\n",
       "    </tr>\n",
       "    <tr>\n",
       "      <th>4</th>\n",
       "      <td>atlantic salmon</td>\n",
       "      <td>species</td>\n",
       "    </tr>\n",
       "    <tr>\n",
       "      <th>...</th>\n",
       "      <td>...</td>\n",
       "      <td>...</td>\n",
       "    </tr>\n",
       "    <tr>\n",
       "      <th>9995</th>\n",
       "      <td>hails</td>\n",
       "      <td>cause structural damage</td>\n",
       "    </tr>\n",
       "    <tr>\n",
       "      <th>9996</th>\n",
       "      <td>boundary element method</td>\n",
       "      <td>numerical technique</td>\n",
       "    </tr>\n",
       "    <tr>\n",
       "      <th>9997</th>\n",
       "      <td>miracle</td>\n",
       "      <td>topic</td>\n",
       "    </tr>\n",
       "    <tr>\n",
       "      <th>9998</th>\n",
       "      <td>medical</td>\n",
       "      <td>product</td>\n",
       "    </tr>\n",
       "    <tr>\n",
       "      <th>9999</th>\n",
       "      <td>forks</td>\n",
       "      <td>used for eats</td>\n",
       "    </tr>\n",
       "  </tbody>\n",
       "</table>\n",
       "<p>9939 rows × 2 columns</p>\n",
       "</div>"
      ],
      "text/plain": [
       "                      concept                 property\n",
       "0                       panel                     part\n",
       "1                        gout                  problem\n",
       "2                  golf shoes        have rubber soles\n",
       "3                          un      global organization\n",
       "4             atlantic salmon                  species\n",
       "...                       ...                      ...\n",
       "9995                    hails  cause structural damage\n",
       "9996  boundary element method      numerical technique\n",
       "9997                  miracle                    topic\n",
       "9998                  medical                  product\n",
       "9999                    forks            used for eats\n",
       "\n",
       "[9939 rows x 2 columns]"
      ]
     },
     "execution_count": 14,
     "metadata": {},
     "output_type": "execute_result"
    }
   ],
   "source": [
    "valid_df"
   ]
  },
  {
   "cell_type": "code",
   "execution_count": 15,
   "id": "7e3665d6-5228-436b-b519-9cdf570c1c83",
   "metadata": {},
   "outputs": [
    {
     "data": {
      "text/plain": [
       "False"
      ]
     },
     "execution_count": 15,
     "metadata": {},
     "output_type": "execute_result"
    }
   ],
   "source": [
    "valid_df[\"property\"].isnull().values.any()"
   ]
  },
  {
   "cell_type": "code",
   "execution_count": 16,
   "id": "5309e0d5-bb13-4645-a50a-dc8d091ed8c6",
   "metadata": {},
   "outputs": [
    {
     "data": {
      "text/plain": [
       "False"
      ]
     },
     "execution_count": 16,
     "metadata": {},
     "output_type": "execute_result"
    }
   ],
   "source": [
    "valid_df[\"concept\"].isnull().values.any()"
   ]
  },
  {
   "cell_type": "code",
   "execution_count": 17,
   "id": "40e85180-1ae2-4a28-8e63-f155b17944a5",
   "metadata": {},
   "outputs": [],
   "source": [
    "valid_df.dropna(inplace=True)"
   ]
  },
  {
   "cell_type": "code",
   "execution_count": 18,
   "id": "548958de-c54a-485e-9377-ea5f81699a5e",
   "metadata": {},
   "outputs": [],
   "source": [
    "valid_df.to_csv(\"valid_sampled_10k_top_100k_gkb_mscg.tsv\",sep=\"\\t\", header=False, index=False, index_label=None)"
   ]
  },
  {
   "cell_type": "code",
   "execution_count": 20,
   "id": "6f776cd4-ce71-4f96-810f-8eb6689838cf",
   "metadata": {},
   "outputs": [],
   "source": [
    "s = torch.rand(2, 3)"
   ]
  },
  {
   "cell_type": "code",
   "execution_count": 21,
   "id": "c6089419-1f7d-4f08-b309-784d6625d9ab",
   "metadata": {},
   "outputs": [
    {
     "data": {
      "text/plain": [
       "tensor([[0.2892, 0.2843, 0.9273],\n",
       "        [0.6600, 0.2839, 0.8103]])"
      ]
     },
     "execution_count": 21,
     "metadata": {},
     "output_type": "execute_result"
    }
   ],
   "source": [
    "s"
   ]
  },
  {
   "cell_type": "code",
   "execution_count": 23,
   "id": "16c268cb-4990-4096-9de1-0796849f80e8",
   "metadata": {},
   "outputs": [],
   "source": [
    "t= s.numpy()"
   ]
  },
  {
   "cell_type": "code",
   "execution_count": 25,
   "id": "cc006123-9c50-4e94-b884-ecf1e5b9feaa",
   "metadata": {},
   "outputs": [
    {
     "data": {
      "text/plain": [
       "array([0.28915524, 0.28433806, 0.9273462 , 0.65995425, 0.2838949 ,\n",
       "       0.81030566], dtype=float32)"
      ]
     },
     "execution_count": 25,
     "metadata": {},
     "output_type": "execute_result"
    }
   ],
   "source": [
    "t.flatten()"
   ]
  },
  {
   "cell_type": "code",
   "execution_count": null,
   "id": "df39199f-c4e3-4ddd-a9c8-afdac5d837ec",
   "metadata": {},
   "outputs": [],
   "source": [
    "l = [armour, axe, book, brush, bucket, buckle, cart, comb, crowbar, cupboard, helicopter, jet, lantern, laptop, oven, peg, pen, pistol, rake, rope, spoon, submarine, tack\n",
    "a_toy\tbicycle, bucket, doll, skateboard, snowboard, submarine, toy, train, wand]"
   ]
  }
 ],
 "metadata": {
  "kernelspec": {
   "display_name": "Python 3 (ipykernel)",
   "language": "python",
   "name": "python3"
  },
  "language_info": {
   "codemirror_mode": {
    "name": "ipython",
    "version": 3
   },
   "file_extension": ".py",
   "mimetype": "text/x-python",
   "name": "python",
   "nbconvert_exporter": "python",
   "pygments_lexer": "ipython3",
   "version": "3.9.7"
  }
 },
 "nbformat": 4,
 "nbformat_minor": 5
}
